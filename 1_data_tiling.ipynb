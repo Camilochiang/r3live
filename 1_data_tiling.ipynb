{
  "cells": [
    {
      "cell_type": "markdown",
      "metadata": {
        "id": "view-in-github",
        "colab_type": "text"
      },
      "source": [
        "<a href=\"https://colab.research.google.com/github/Camilochiang/r3live/blob/main/1_data_tiling.ipynb\" target=\"_parent\"><img src=\"https://colab.research.google.com/assets/colab-badge.svg\" alt=\"Open In Colab\"/></a>"
      ]
    },
    {
      "cell_type": "markdown",
      "id": "ddadfa67-f138-489c-81ab-7c3944ed7f72",
      "metadata": {
        "id": "ddadfa67-f138-489c-81ab-7c3944ed7f72"
      },
      "source": [
        "# 1 - Data tiling 🗺️ --> ⬜⬜⬜ ...\n",
        "## From orthomosaic to tiles\n",
        "\n",
        "Deep learning models are not able to digest RS data as a wall-to-wall product and therefore this represents the first step required for applying most deep learning models to geospatial data. \n",
        "\n",
        "Depending on the application, deep learning architecture, and available computing resources one can modify the `tile_size`.\n",
        "\n",
        "##### Inputs:\n",
        "- `input_ortho_path`: path to drone orthomosaic (*.tif) 🗺️\n",
        "- `tile_size_m`: length of the side of the tiles (m) 📏  \n",
        "- `buffer_size_m`: overlap between adjatient tiles (m) 🗗\n",
        "\n",
        "##### Output: \n",
        "- a folder with tiled orthomosaic. This becomes the input to either train or predict with a YOLOv8 model. "
      ]
    },
    {
      "cell_type": "markdown",
      "source": [
        "### Define tiling and reference parameters"
      ],
      "metadata": {
        "id": "AinGqoKgKxWS"
      },
      "id": "AinGqoKgKxWS"
    },
    {
      "cell_type": "code",
      "source": [
        "tile_size_m=10 # tile size in m\n",
        "buffer_size_m=0 # tile buffer size_m (used to produce overlapping tiles)"
      ],
      "metadata": {
        "id": "Duz9_r-eCNqT"
      },
      "id": "Duz9_r-eCNqT",
      "execution_count": null,
      "outputs": []
    },
    {
      "cell_type": "code",
      "execution_count": null,
      "id": "b471dd52-d4ac-45cb-b03d-9dca8026f7b1",
      "metadata": {
        "id": "b471dd52-d4ac-45cb-b03d-9dca8026f7b1"
      },
      "outputs": [],
      "source": [
        "# define path to your own google drive\n",
        "my_drive_path=\"/content/drive/MyDrive\"\n",
        "path_data=my_drive_path+\"/NOVA_course_deep_learning/data\"\n",
        "\n",
        "input_ortho_path=path_data+\"/orthomosaics/test_data/galbyveien_20230504_sun.tif\" # this will be the drone mosaic\n"
      ]
    },
    {
      "cell_type": "markdown",
      "source": [
        "### 1.1 Install and import required python libraries (not included in colab) "
      ],
      "metadata": {
        "id": "h5-U9Uqj0hnM"
      },
      "id": "h5-U9Uqj0hnM"
    },
    {
      "cell_type": "code",
      "source": [
        "# install required libraries (if running in a local conda environment then other libraries might need to be installed)\n",
        "!pip install geopandas\n",
        "!pip install rasterio\n",
        "!pip install folium matplotlib mapclassify"
      ],
      "metadata": {
        "colab": {
          "base_uri": "https://localhost:8080/"
        },
        "id": "OHd0D_EWz-oV",
        "outputId": "c48094f2-a1db-4399-aa1d-de491fc30063"
      },
      "id": "OHd0D_EWz-oV",
      "execution_count": null,
      "outputs": [
        {
          "output_type": "stream",
          "name": "stdout",
          "text": [
            "Looking in indexes: https://pypi.org/simple, https://us-python.pkg.dev/colab-wheels/public/simple/\n",
            "Collecting geopandas\n",
            "  Downloading geopandas-0.13.0-py3-none-any.whl (1.1 MB)\n",
            "\u001b[2K     \u001b[90m━━━━━━━━━━━━━━━━━━━━━━━━━━━━━━━━━━━━━━━━\u001b[0m \u001b[32m1.1/1.1 MB\u001b[0m \u001b[31m12.0 MB/s\u001b[0m eta \u001b[36m0:00:00\u001b[0m\n",
            "\u001b[?25hCollecting fiona>=1.8.19 (from geopandas)\n",
            "  Downloading Fiona-1.9.4-cp310-cp310-manylinux_2_17_x86_64.manylinux2014_x86_64.whl (16.5 MB)\n",
            "\u001b[2K     \u001b[90m━━━━━━━━━━━━━━━━━━━━━━━━━━━━━━━━━━━━━━━━\u001b[0m \u001b[32m16.5/16.5 MB\u001b[0m \u001b[31m47.1 MB/s\u001b[0m eta \u001b[36m0:00:00\u001b[0m\n",
            "\u001b[?25hRequirement already satisfied: packaging in /usr/local/lib/python3.10/dist-packages (from geopandas) (23.1)\n",
            "Requirement already satisfied: pandas>=1.1.0 in /usr/local/lib/python3.10/dist-packages (from geopandas) (1.5.3)\n",
            "Collecting pyproj>=3.0.1 (from geopandas)\n",
            "  Downloading pyproj-3.5.0-cp310-cp310-manylinux_2_17_x86_64.manylinux2014_x86_64.whl (7.7 MB)\n",
            "\u001b[2K     \u001b[90m━━━━━━━━━━━━━━━━━━━━━━━━━━━━━━━━━━━━━━━━\u001b[0m \u001b[32m7.7/7.7 MB\u001b[0m \u001b[31m63.2 MB/s\u001b[0m eta \u001b[36m0:00:00\u001b[0m\n",
            "\u001b[?25hRequirement already satisfied: shapely>=1.7.1 in /usr/local/lib/python3.10/dist-packages (from geopandas) (2.0.1)\n",
            "Requirement already satisfied: attrs>=19.2.0 in /usr/local/lib/python3.10/dist-packages (from fiona>=1.8.19->geopandas) (23.1.0)\n",
            "Requirement already satisfied: certifi in /usr/local/lib/python3.10/dist-packages (from fiona>=1.8.19->geopandas) (2022.12.7)\n",
            "Requirement already satisfied: click~=8.0 in /usr/local/lib/python3.10/dist-packages (from fiona>=1.8.19->geopandas) (8.1.3)\n",
            "Collecting click-plugins>=1.0 (from fiona>=1.8.19->geopandas)\n",
            "  Downloading click_plugins-1.1.1-py2.py3-none-any.whl (7.5 kB)\n",
            "Collecting cligj>=0.5 (from fiona>=1.8.19->geopandas)\n",
            "  Downloading cligj-0.7.2-py3-none-any.whl (7.1 kB)\n",
            "Requirement already satisfied: six in /usr/local/lib/python3.10/dist-packages (from fiona>=1.8.19->geopandas) (1.16.0)\n",
            "Requirement already satisfied: python-dateutil>=2.8.1 in /usr/local/lib/python3.10/dist-packages (from pandas>=1.1.0->geopandas) (2.8.2)\n",
            "Requirement already satisfied: pytz>=2020.1 in /usr/local/lib/python3.10/dist-packages (from pandas>=1.1.0->geopandas) (2022.7.1)\n",
            "Requirement already satisfied: numpy>=1.21.0 in /usr/local/lib/python3.10/dist-packages (from pandas>=1.1.0->geopandas) (1.22.4)\n",
            "Installing collected packages: pyproj, cligj, click-plugins, fiona, geopandas\n",
            "Successfully installed click-plugins-1.1.1 cligj-0.7.2 fiona-1.9.4 geopandas-0.13.0 pyproj-3.5.0\n",
            "Looking in indexes: https://pypi.org/simple, https://us-python.pkg.dev/colab-wheels/public/simple/\n",
            "Collecting rasterio\n",
            "  Downloading rasterio-1.3.6-cp310-cp310-manylinux_2_17_x86_64.manylinux2014_x86_64.whl (20.0 MB)\n",
            "\u001b[2K     \u001b[90m━━━━━━━━━━━━━━━━━━━━━━━━━━━━━━━━━━━━━━━━\u001b[0m \u001b[32m20.0/20.0 MB\u001b[0m \u001b[31m51.5 MB/s\u001b[0m eta \u001b[36m0:00:00\u001b[0m\n",
            "\u001b[?25hCollecting affine (from rasterio)\n",
            "  Downloading affine-2.4.0-py3-none-any.whl (15 kB)\n",
            "Requirement already satisfied: attrs in /usr/local/lib/python3.10/dist-packages (from rasterio) (23.1.0)\n",
            "Requirement already satisfied: certifi in /usr/local/lib/python3.10/dist-packages (from rasterio) (2022.12.7)\n",
            "Requirement already satisfied: click>=4.0 in /usr/local/lib/python3.10/dist-packages (from rasterio) (8.1.3)\n",
            "Requirement already satisfied: cligj>=0.5 in /usr/local/lib/python3.10/dist-packages (from rasterio) (0.7.2)\n",
            "Requirement already satisfied: numpy>=1.18 in /usr/local/lib/python3.10/dist-packages (from rasterio) (1.22.4)\n",
            "Collecting snuggs>=1.4.1 (from rasterio)\n",
            "  Downloading snuggs-1.4.7-py3-none-any.whl (5.4 kB)\n",
            "Requirement already satisfied: click-plugins in /usr/local/lib/python3.10/dist-packages (from rasterio) (1.1.1)\n",
            "Requirement already satisfied: setuptools in /usr/local/lib/python3.10/dist-packages (from rasterio) (67.7.2)\n",
            "Requirement already satisfied: pyparsing>=2.1.6 in /usr/local/lib/python3.10/dist-packages (from snuggs>=1.4.1->rasterio) (3.0.9)\n",
            "Installing collected packages: snuggs, affine, rasterio\n",
            "Successfully installed affine-2.4.0 rasterio-1.3.6 snuggs-1.4.7\n",
            "Looking in indexes: https://pypi.org/simple, https://us-python.pkg.dev/colab-wheels/public/simple/\n",
            "Requirement already satisfied: folium in /usr/local/lib/python3.10/dist-packages (0.14.0)\n",
            "Requirement already satisfied: matplotlib in /usr/local/lib/python3.10/dist-packages (3.7.1)\n",
            "Collecting mapclassify\n",
            "  Downloading mapclassify-2.5.0-py3-none-any.whl (39 kB)\n",
            "Requirement already satisfied: branca>=0.6.0 in /usr/local/lib/python3.10/dist-packages (from folium) (0.6.0)\n",
            "Requirement already satisfied: jinja2>=2.9 in /usr/local/lib/python3.10/dist-packages (from folium) (3.1.2)\n",
            "Requirement already satisfied: numpy in /usr/local/lib/python3.10/dist-packages (from folium) (1.22.4)\n",
            "Requirement already satisfied: requests in /usr/local/lib/python3.10/dist-packages (from folium) (2.27.1)\n",
            "Requirement already satisfied: contourpy>=1.0.1 in /usr/local/lib/python3.10/dist-packages (from matplotlib) (1.0.7)\n",
            "Requirement already satisfied: cycler>=0.10 in /usr/local/lib/python3.10/dist-packages (from matplotlib) (0.11.0)\n",
            "Requirement already satisfied: fonttools>=4.22.0 in /usr/local/lib/python3.10/dist-packages (from matplotlib) (4.39.3)\n",
            "Requirement already satisfied: kiwisolver>=1.0.1 in /usr/local/lib/python3.10/dist-packages (from matplotlib) (1.4.4)\n",
            "Requirement already satisfied: packaging>=20.0 in /usr/local/lib/python3.10/dist-packages (from matplotlib) (23.1)\n",
            "Requirement already satisfied: pillow>=6.2.0 in /usr/local/lib/python3.10/dist-packages (from matplotlib) (8.4.0)\n",
            "Requirement already satisfied: pyparsing>=2.3.1 in /usr/local/lib/python3.10/dist-packages (from matplotlib) (3.0.9)\n",
            "Requirement already satisfied: python-dateutil>=2.7 in /usr/local/lib/python3.10/dist-packages (from matplotlib) (2.8.2)\n",
            "Requirement already satisfied: scipy>=1.0 in /usr/local/lib/python3.10/dist-packages (from mapclassify) (1.10.1)\n",
            "Requirement already satisfied: scikit-learn in /usr/local/lib/python3.10/dist-packages (from mapclassify) (1.2.2)\n",
            "Requirement already satisfied: pandas>=1.0 in /usr/local/lib/python3.10/dist-packages (from mapclassify) (1.5.3)\n",
            "Requirement already satisfied: networkx in /usr/local/lib/python3.10/dist-packages (from mapclassify) (3.1)\n",
            "Requirement already satisfied: MarkupSafe>=2.0 in /usr/local/lib/python3.10/dist-packages (from jinja2>=2.9->folium) (2.1.2)\n",
            "Requirement already satisfied: pytz>=2020.1 in /usr/local/lib/python3.10/dist-packages (from pandas>=1.0->mapclassify) (2022.7.1)\n",
            "Requirement already satisfied: six>=1.5 in /usr/local/lib/python3.10/dist-packages (from python-dateutil>=2.7->matplotlib) (1.16.0)\n",
            "Requirement already satisfied: urllib3<1.27,>=1.21.1 in /usr/local/lib/python3.10/dist-packages (from requests->folium) (1.26.15)\n",
            "Requirement already satisfied: certifi>=2017.4.17 in /usr/local/lib/python3.10/dist-packages (from requests->folium) (2022.12.7)\n",
            "Requirement already satisfied: charset-normalizer~=2.0.0 in /usr/local/lib/python3.10/dist-packages (from requests->folium) (2.0.12)\n",
            "Requirement already satisfied: idna<4,>=2.5 in /usr/local/lib/python3.10/dist-packages (from requests->folium) (3.4)\n",
            "Requirement already satisfied: joblib>=1.1.1 in /usr/local/lib/python3.10/dist-packages (from scikit-learn->mapclassify) (1.2.0)\n",
            "Requirement already satisfied: threadpoolctl>=2.0.0 in /usr/local/lib/python3.10/dist-packages (from scikit-learn->mapclassify) (3.1.0)\n",
            "Installing collected packages: mapclassify\n",
            "Successfully installed mapclassify-2.5.0\n"
          ]
        }
      ]
    },
    {
      "cell_type": "code",
      "execution_count": null,
      "id": "50d21dfd-a314-4258-ad19-e3420980adac",
      "metadata": {
        "id": "50d21dfd-a314-4258-ad19-e3420980adac"
      },
      "outputs": [],
      "source": [
        "# general python packages\n",
        "## general packages\n",
        "import os, glob, shutil\n",
        "from pathlib import Path\n",
        "from datetime import datetime, timedelta\n",
        "import numpy as np\n",
        "import pandas as pd\n",
        "import matplotlib.pyplot as plt\n",
        "\n",
        "\n",
        "\n",
        "# geospatial packages\n",
        "from osgeo import gdal, ogr, osr\n",
        "import geopandas as gpd\n",
        "from shapely.geometry import Polygon\n",
        "import rasterio as rio\n",
        "import folium\n",
        "\n",
        "# define path to where osgeo utils (gdal_retile.py) are stored\n",
        "path_osgeo_utils= \"/usr/local/lib/python3.10/dist-packages/osgeo_utils\""
      ]
    },
    {
      "cell_type": "markdown",
      "source": [
        "### 1.2 Mount google drive "
      ],
      "metadata": {
        "id": "BFIsgZeq41S_"
      },
      "id": "BFIsgZeq41S_"
    },
    {
      "cell_type": "code",
      "source": [
        "from google.colab import drive\n",
        "drive.mount('/content/drive')"
      ],
      "metadata": {
        "colab": {
          "base_uri": "https://localhost:8080/"
        },
        "id": "JTzml2724ssA",
        "outputId": "d3eb5aed-9233-47d5-e9ac-9d04835e335a"
      },
      "id": "JTzml2724ssA",
      "execution_count": null,
      "outputs": [
        {
          "output_type": "stream",
          "name": "stdout",
          "text": [
            "Mounted at /content/drive\n"
          ]
        }
      ]
    },
    {
      "cell_type": "code",
      "source": [
        "# check what is in your google drive\n",
        "!ls \"/content/drive/My Drive\""
      ],
      "metadata": {
        "id": "2zFJnuzB_Bo_"
      },
      "id": "2zFJnuzB_Bo_",
      "execution_count": null,
      "outputs": []
    },
    {
      "cell_type": "markdown",
      "id": "c6fe298e-428b-407d-b969-2a6beb8653fd",
      "metadata": {
        "id": "c6fe298e-428b-407d-b969-2a6beb8653fd"
      },
      "source": [
        "### 1.3 Load data"
      ]
    },
    {
      "cell_type": "markdown",
      "source": [
        "#### Define paths to available orthomosaics"
      ],
      "metadata": {
        "id": "vkUHM12fHKUv"
      },
      "id": "vkUHM12fHKUv"
    },
    {
      "cell_type": "code",
      "execution_count": null,
      "id": "eac039d1-7089-496f-85d2-00ee9b3d55d0",
      "metadata": {
        "id": "eac039d1-7089-496f-85d2-00ee9b3d55d0"
      },
      "outputs": [],
      "source": [
        "path_data=my_drive_path+\"/NOVA_course_deep_learning/data\"\n",
        "orthos = os.listdir(path_data+\"/orthomosaics\")\n",
        "\n",
        "#all_flights_path=\"S:/Prosjekter/52106_SFI_SmartForest/annotated_datasets/SemanticSegmentation_windDamage/orthomosaics/allFlights_boundary.shp\"\n",
        "#all_flights = gpd.read_file(all_flights_path)\n",
        "\n",
        "#all_flights.head()"
      ]
    },
    {
      "cell_type": "markdown",
      "source": [
        "#### Load orthomosaic footprints (pre-create vector file)"
      ],
      "metadata": {
        "id": "rqWzcvJBHOZv"
      },
      "id": "rqWzcvJBHOZv"
    },
    {
      "cell_type": "code",
      "source": [
        "# define directory to where the drone acquisition geojson is stored\n",
        "dir_drone_acquisitions=path_data+\"/map_data/drone_acquisitions.geojson\"\n",
        "dir_drone_acquisitions"
      ],
      "metadata": {
        "colab": {
          "base_uri": "https://localhost:8080/",
          "height": 35
        },
        "id": "ELmiLMJQVCAX",
        "outputId": "cc796800-f51f-48cc-e1db-a4e7541825f4"
      },
      "id": "ELmiLMJQVCAX",
      "execution_count": null,
      "outputs": [
        {
          "output_type": "execute_result",
          "data": {
            "text/plain": [
              "'/content/drive/MyDrive/NOVA_course_deep_learning/data/map_data/drone_acquisitions.geojson'"
            ],
            "application/vnd.google.colaboratory.intrinsic+json": {
              "type": "string"
            }
          },
          "metadata": {},
          "execution_count": 7
        }
      ]
    },
    {
      "cell_type": "code",
      "source": [
        "footprints= gpd.read_file(dir_drone_acquisitions)"
      ],
      "metadata": {
        "id": "KgO9OwttHWIp",
        "colab": {
          "base_uri": "https://localhost:8080/"
        },
        "outputId": "fbbe6d8c-13ef-47e8-e612-b25d614479fe"
      },
      "id": "KgO9OwttHWIp",
      "execution_count": null,
      "outputs": [
        {
          "output_type": "stream",
          "name": "stderr",
          "text": [
            "WARNING:fiona._env:Several features with id = 3 have been found. Altering it to be unique. This warning will not be emitted anymore for this layer\n"
          ]
        }
      ]
    },
    {
      "cell_type": "code",
      "source": [
        "# Here you can get an overview of where the data are located\n",
        "footprints.explore()"
      ],
      "metadata": {
        "id": "VOgdsdUXJdbF",
        "colab": {
          "base_uri": "https://localhost:8080/",
          "height": 1000
        },
        "outputId": "a415b621-6233-44ca-b7f0-c3c8bcf8a11a"
      },
      "id": "VOgdsdUXJdbF",
      "execution_count": null,
      "outputs": [
        {
          "output_type": "execute_result",
          "data": {
            "text/plain": [
              "<folium.folium.Map at 0x7fe0a7e86f50>"
            ],
            "text/html": [
              "<div style=\"width:100%;\"><div style=\"position:relative;width:100%;height:0;padding-bottom:60%;\"><span style=\"color:#565656\">Make this Notebook Trusted to load map: File -> Trust Notebook</span><iframe srcdoc=\"&lt;!DOCTYPE html&gt;\n",
              "&lt;html&gt;\n",
              "&lt;head&gt;\n",
              "    \n",
              "    &lt;meta http-equiv=&quot;content-type&quot; content=&quot;text/html; charset=UTF-8&quot; /&gt;\n",
              "    \n",
              "        &lt;script&gt;\n",
              "            L_NO_TOUCH = false;\n",
              "            L_DISABLE_3D = false;\n",
              "        &lt;/script&gt;\n",
              "    \n",
              "    &lt;style&gt;html, body {width: 100%;height: 100%;margin: 0;padding: 0;}&lt;/style&gt;\n",
              "    &lt;style&gt;#map {position:absolute;top:0;bottom:0;right:0;left:0;}&lt;/style&gt;\n",
              "    &lt;script src=&quot;https://cdn.jsdelivr.net/npm/leaflet@1.9.3/dist/leaflet.js&quot;&gt;&lt;/script&gt;\n",
              "    &lt;script src=&quot;https://code.jquery.com/jquery-1.12.4.min.js&quot;&gt;&lt;/script&gt;\n",
              "    &lt;script src=&quot;https://cdn.jsdelivr.net/npm/bootstrap@5.2.2/dist/js/bootstrap.bundle.min.js&quot;&gt;&lt;/script&gt;\n",
              "    &lt;script src=&quot;https://cdnjs.cloudflare.com/ajax/libs/Leaflet.awesome-markers/2.0.2/leaflet.awesome-markers.js&quot;&gt;&lt;/script&gt;\n",
              "    &lt;link rel=&quot;stylesheet&quot; href=&quot;https://cdn.jsdelivr.net/npm/leaflet@1.9.3/dist/leaflet.css&quot;/&gt;\n",
              "    &lt;link rel=&quot;stylesheet&quot; href=&quot;https://cdn.jsdelivr.net/npm/bootstrap@5.2.2/dist/css/bootstrap.min.css&quot;/&gt;\n",
              "    &lt;link rel=&quot;stylesheet&quot; href=&quot;https://netdna.bootstrapcdn.com/bootstrap/3.0.0/css/bootstrap.min.css&quot;/&gt;\n",
              "    &lt;link rel=&quot;stylesheet&quot; href=&quot;https://cdn.jsdelivr.net/npm/@fortawesome/fontawesome-free@6.2.0/css/all.min.css&quot;/&gt;\n",
              "    &lt;link rel=&quot;stylesheet&quot; href=&quot;https://cdnjs.cloudflare.com/ajax/libs/Leaflet.awesome-markers/2.0.2/leaflet.awesome-markers.css&quot;/&gt;\n",
              "    &lt;link rel=&quot;stylesheet&quot; href=&quot;https://cdn.jsdelivr.net/gh/python-visualization/folium/folium/templates/leaflet.awesome.rotate.min.css&quot;/&gt;\n",
              "    \n",
              "            &lt;meta name=&quot;viewport&quot; content=&quot;width=device-width,\n",
              "                initial-scale=1.0, maximum-scale=1.0, user-scalable=no&quot; /&gt;\n",
              "            &lt;style&gt;\n",
              "                #map_a25fc798f5ad084081d8915e49620850 {\n",
              "                    position: relative;\n",
              "                    width: 100.0%;\n",
              "                    height: 100.0%;\n",
              "                    left: 0.0%;\n",
              "                    top: 0.0%;\n",
              "                }\n",
              "                .leaflet-container { font-size: 1rem; }\n",
              "            &lt;/style&gt;\n",
              "        \n",
              "    \n",
              "                    &lt;style&gt;\n",
              "                        .foliumtooltip {\n",
              "                            \n",
              "                        }\n",
              "                       .foliumtooltip table{\n",
              "                            margin: auto;\n",
              "                        }\n",
              "                        .foliumtooltip tr{\n",
              "                            text-align: left;\n",
              "                        }\n",
              "                        .foliumtooltip th{\n",
              "                            padding: 2px; padding-right: 8px;\n",
              "                        }\n",
              "                    &lt;/style&gt;\n",
              "            \n",
              "&lt;/head&gt;\n",
              "&lt;body&gt;\n",
              "    \n",
              "    \n",
              "            &lt;div class=&quot;folium-map&quot; id=&quot;map_a25fc798f5ad084081d8915e49620850&quot; &gt;&lt;/div&gt;\n",
              "        \n",
              "&lt;/body&gt;\n",
              "&lt;script&gt;\n",
              "    \n",
              "    \n",
              "            var map_a25fc798f5ad084081d8915e49620850 = L.map(\n",
              "                &quot;map_a25fc798f5ad084081d8915e49620850&quot;,\n",
              "                {\n",
              "                    center: [59.651586401319925, 10.817090607113432],\n",
              "                    crs: L.CRS.EPSG3857,\n",
              "                    zoom: 10,\n",
              "                    zoomControl: true,\n",
              "                    preferCanvas: false,\n",
              "                }\n",
              "            );\n",
              "            L.control.scale().addTo(map_a25fc798f5ad084081d8915e49620850);\n",
              "\n",
              "            \n",
              "\n",
              "        \n",
              "    \n",
              "            var tile_layer_f4778e54cd34f5f3e3aad0a405c4c291 = L.tileLayer(\n",
              "                &quot;https://{s}.tile.openstreetmap.org/{z}/{x}/{y}.png&quot;,\n",
              "                {&quot;attribution&quot;: &quot;Data by \\u0026copy; \\u003ca target=\\&quot;_blank\\&quot; href=\\&quot;http://openstreetmap.org\\&quot;\\u003eOpenStreetMap\\u003c/a\\u003e, under \\u003ca target=\\&quot;_blank\\&quot; href=\\&quot;http://www.openstreetmap.org/copyright\\&quot;\\u003eODbL\\u003c/a\\u003e.&quot;, &quot;detectRetina&quot;: false, &quot;maxNativeZoom&quot;: 18, &quot;maxZoom&quot;: 18, &quot;minZoom&quot;: 0, &quot;noWrap&quot;: false, &quot;opacity&quot;: 1, &quot;subdomains&quot;: &quot;abc&quot;, &quot;tms&quot;: false}\n",
              "            ).addTo(map_a25fc798f5ad084081d8915e49620850);\n",
              "        \n",
              "    \n",
              "            map_a25fc798f5ad084081d8915e49620850.fitBounds(\n",
              "                [[59.575788684011215, 10.657674569336889], [59.727384118628635, 10.976506644889975]],\n",
              "                {}\n",
              "            );\n",
              "        \n",
              "    \n",
              "        function geo_json_98b953642b4ee6204e18151bbb7a0459_styler(feature) {\n",
              "            switch(feature.id) {\n",
              "                default:\n",
              "                    return {&quot;fillOpacity&quot;: 0.5, &quot;weight&quot;: 2};\n",
              "            }\n",
              "        }\n",
              "        function geo_json_98b953642b4ee6204e18151bbb7a0459_highlighter(feature) {\n",
              "            switch(feature.id) {\n",
              "                default:\n",
              "                    return {&quot;fillOpacity&quot;: 0.75};\n",
              "            }\n",
              "        }\n",
              "        function geo_json_98b953642b4ee6204e18151bbb7a0459_pointToLayer(feature, latlng) {\n",
              "            var opts = {&quot;bubblingMouseEvents&quot;: true, &quot;color&quot;: &quot;#3388ff&quot;, &quot;dashArray&quot;: null, &quot;dashOffset&quot;: null, &quot;fill&quot;: true, &quot;fillColor&quot;: &quot;#3388ff&quot;, &quot;fillOpacity&quot;: 0.2, &quot;fillRule&quot;: &quot;evenodd&quot;, &quot;lineCap&quot;: &quot;round&quot;, &quot;lineJoin&quot;: &quot;round&quot;, &quot;opacity&quot;: 1.0, &quot;radius&quot;: 2, &quot;stroke&quot;: true, &quot;weight&quot;: 3};\n",
              "            \n",
              "            let style = geo_json_98b953642b4ee6204e18151bbb7a0459_styler(feature)\n",
              "            Object.assign(opts, style)\n",
              "            \n",
              "            return new L.CircleMarker(latlng, opts)\n",
              "        }\n",
              "\n",
              "        function geo_json_98b953642b4ee6204e18151bbb7a0459_onEachFeature(feature, layer) {\n",
              "            layer.on({\n",
              "                mouseout: function(e) {\n",
              "                    if(typeof e.target.setStyle === &quot;function&quot;){\n",
              "                        geo_json_98b953642b4ee6204e18151bbb7a0459.resetStyle(e.target);\n",
              "                    }\n",
              "                },\n",
              "                mouseover: function(e) {\n",
              "                    if(typeof e.target.setStyle === &quot;function&quot;){\n",
              "                        const highlightStyle = geo_json_98b953642b4ee6204e18151bbb7a0459_highlighter(e.target.feature)\n",
              "                        e.target.setStyle(highlightStyle);\n",
              "                    }\n",
              "                },\n",
              "            });\n",
              "        };\n",
              "        var geo_json_98b953642b4ee6204e18151bbb7a0459 = L.geoJson(null, {\n",
              "                onEachFeature: geo_json_98b953642b4ee6204e18151bbb7a0459_onEachFeature,\n",
              "            \n",
              "                style: geo_json_98b953642b4ee6204e18151bbb7a0459_styler,\n",
              "                pointToLayer: geo_json_98b953642b4ee6204e18151bbb7a0459_pointToLayer\n",
              "        });\n",
              "\n",
              "        function geo_json_98b953642b4ee6204e18151bbb7a0459_add (data) {\n",
              "            geo_json_98b953642b4ee6204e18151bbb7a0459\n",
              "                .addData(data)\n",
              "                .addTo(map_a25fc798f5ad084081d8915e49620850);\n",
              "        }\n",
              "            geo_json_98b953642b4ee6204e18151bbb7a0459_add({&quot;bbox&quot;: [10.657674569336889, 59.575788684011215, 10.976506644889975, 59.727384118628635], &quot;features&quot;: [{&quot;bbox&quot;: [10.87679939409992, 59.576350319854164, 10.879395135782023, 59.578269650555015], &quot;geometry&quot;: {&quot;coordinates&quot;: [[[[10.878965355428146, 59.57825401523458], [10.879169233813135, 59.57810806756135], [10.879395135782023, 59.57796512954854], [10.879360917018321, 59.57766516358038], [10.879230438673936, 59.577441970560706], [10.878666213210442, 59.57747556691452], [10.878541727224437, 59.57747735288771], [10.878513291813357, 59.5772809670087], [10.878480060555942, 59.577233769748894], [10.878176429829951, 59.57723701655564], [10.87812994934401, 59.57722659626921], [10.878049806035335, 59.57716122391104], [10.878024817310717, 59.577105038742424], [10.878021443731582, 59.57700530435558], [10.878015493059145, 59.57693775915643], [10.878035069307948, 59.57677921181528], [10.878022140064262, 59.57650804353302], [10.878021236528758, 59.57645262161425], [10.877642225800582, 59.57647579622903], [10.877611342509562, 59.57647069559571], [10.877578406683867, 59.576350319854164], [10.87714304754254, 59.57638206189509], [10.877115720357397, 59.57648001901368], [10.876800640143184, 59.57649340510283], [10.876826780967496, 59.577001922407035], [10.876839135047355, 59.577380642559504], [10.876848205012319, 59.57762193133665], [10.87679939409992, 59.57792281065801], [10.876818852683382, 59.57811516785452], [10.876893726119214, 59.57812518164477], [10.87709484007952, 59.5781256249085], [10.877366150961633, 59.57813060494464], [10.87755871412575, 59.57813449618132], [10.877763702192949, 59.578126013291], [10.877956720355154, 59.578098853893586], [10.878166199618377, 59.57809252335345], [10.87826377809566, 59.578117732460555], [10.878407423521228, 59.578224324278565], [10.878409523557961, 59.57826198986526], [10.87841650796807, 59.578269650555015], [10.878965355428146, 59.57825401523458]]]], &quot;type&quot;: &quot;MultiPolygon&quot;}, &quot;id&quot;: &quot;0&quot;, &quot;properties&quot;: {&quot;filename&quot;: &quot;ortho_hobol_042222_mavic_sun&quot;, &quot;id&quot;: null, &quot;weather&quot;: &quot;sun&quot;}, &quot;type&quot;: &quot;Feature&quot;}, {&quot;bbox&quot;: [10.87654749550956, 59.57641426442217, 10.879282369568752, 59.57825849775345], &quot;geometry&quot;: {&quot;coordinates&quot;: [[[[10.878274378570037, 59.57825849775345], [10.878976894189403, 59.5782330464521], [10.878993530328913, 59.57816083647859], [10.879199074141761, 59.57814129153819], [10.879252942204902, 59.577872198419264], [10.879282369568752, 59.577708268555], [10.87913847094279, 59.57749931115857], [10.878740395948638, 59.577524588272446], [10.878698351921338, 59.57746230400141], [10.878589511031482, 59.577437313050446], [10.87840421314017, 59.57742459882915], [10.878393236038978, 59.577227708797935], [10.877935984330966, 59.57724437641403], [10.87788848052711, 59.57687124932508], [10.877857000569204, 59.57650415831285], [10.877851990815836, 59.57646370266072], [10.877541836155707, 59.57645976532064], [10.877547565546916, 59.57641426442217], [10.877054771901442, 59.576424471351125], [10.877028831516995, 59.57647410776003], [10.876629300958868, 59.576485424427936], [10.876616541916228, 59.5768746361944], [10.876646675509186, 59.577094135789515], [10.876950785742448, 59.577088379449926], [10.876955126984981, 59.577191033432946], [10.876942816011235, 59.57724204394383], [10.876588725393585, 59.57724083030615], [10.87654749550956, 59.57756406882702], [10.87655404251895, 59.57770634523506], [10.876571585837523, 59.577872920287064], [10.876662306465791, 59.57799302786979], [10.876737171425868, 59.57812524138663], [10.876883481190324, 59.57813039118451], [10.87702510852799, 59.578150461745075], [10.876993045952027, 59.57816839008417], [10.877166674431582, 59.57816939487885], [10.877685341897925, 59.578132610948984], [10.877715531648562, 59.578155236780354], [10.878135691357484, 59.578105888606785], [10.87822658708113, 59.578154894847685], [10.878240715334256, 59.578222994997006], [10.878274378570037, 59.57825849775345]]]], &quot;type&quot;: &quot;MultiPolygon&quot;}, &quot;id&quot;: &quot;1&quot;, &quot;properties&quot;: {&quot;filename&quot;: &quot;ortho_hobol_042922_mavic&quot;, &quot;id&quot;: null, &quot;weather&quot;: &quot;cloud&quot;}, &quot;type&quot;: &quot;Feature&quot;}, {&quot;bbox&quot;: [10.87719447345831, 59.577170258876734, 10.879405577209603, 59.57817775222122], &quot;geometry&quot;: {&quot;coordinates&quot;: [[[[10.87723433992067, 59.57814248375363], [10.877206610885379, 59.57804039798884], [10.877201631405862, 59.57795102941211], [10.87719447345831, 59.577822562080435], [10.877223620555814, 59.57766965142372], [10.877253188450524, 59.577569058942984], [10.877223734105534, 59.577499369818774], [10.877232739092012, 59.5773631204624], [10.877440688599828, 59.577318318247514], [10.877407378379443, 59.57718282845144], [10.877442453214643, 59.577170258876734], [10.877832556459301, 59.57720969313102], [10.87786395712191, 59.577311726130866], [10.877988752938725, 59.57730993635309], [10.878054395817033, 59.57749905485846], [10.878174380131407, 59.577476837254444], [10.878227569087835, 59.57744253433007], [10.878763977980459, 59.5774441556945], [10.878853486543422, 59.577534174737], [10.879302671644616, 59.57748673541328], [10.879405577209603, 59.578014445246], [10.879362498350336, 59.57816413023082], [10.878283250766605, 59.57817775222122], [10.87826377809566, 59.578117732460555], [10.878053742163354, 59.578080424142286], [10.877785792069043, 59.578084266916925], [10.877465688753487, 59.57814103023542], [10.87723433992067, 59.57814248375363]]]], &quot;type&quot;: &quot;MultiPolygon&quot;}, &quot;id&quot;: &quot;2&quot;, &quot;properties&quot;: {&quot;filename&quot;: &quot;ortho_hobol_051022_mavic&quot;, &quot;id&quot;: null, &quot;weather&quot;: &quot;cloud&quot;}, &quot;type&quot;: &quot;Feature&quot;}, {&quot;bbox&quot;: [10.900215611415298, 59.64115954531701, 10.90372602409151, 59.64268749577354], &quot;geometry&quot;: {&quot;coordinates&quot;: [[[[10.90372602409151, 59.64173638192164], [10.90255108737196, 59.6413687373701], [10.902140226687886, 59.64121103152041], [10.901973278326095, 59.64115954531701], [10.901596936718772, 59.64123882477503], [10.901278496318996, 59.64139205510381], [10.900289504077342, 59.642121770478745], [10.900215611415298, 59.64221310516605], [10.900264599901915, 59.64225763818182], [10.900298691758605, 59.64232319889342], [10.900453407928863, 59.642404203524315], [10.900709403768744, 59.64244302100461], [10.901042452456826, 59.64251691520469], [10.901303402753992, 59.64258009094856], [10.901501643823273, 59.64264055623788], [10.901654113066312, 59.64268177818833], [10.90175899609006, 59.64268749577354], [10.901837146087004, 59.64263930939104], [10.902010852686972, 59.64258996295891], [10.903010965125612, 59.64226490525007], [10.903438591879778, 59.64197312941732], [10.90372602409151, 59.64173638192164]]]], &quot;type&quot;: &quot;MultiPolygon&quot;}, &quot;id&quot;: &quot;3&quot;, &quot;properties&quot;: {&quot;filename&quot;: &quot;krakstad_202304_cloud_snow&quot;, &quot;id&quot;: 3.0, &quot;weather&quot;: &quot;sun&quot;}, &quot;type&quot;: &quot;Feature&quot;}, {&quot;bbox&quot;: [10.970057878059514, 59.72558059018803, 10.973620464845773, 59.727366201256444], &quot;geometry&quot;: {&quot;coordinates&quot;: [[[[10.973533876457848, 59.72628682617499], [10.97346493882202, 59.726205946178666], [10.973365757349294, 59.72609581482803], [10.97328641049886, 59.72600969010866], [10.973203462990698, 59.72594312325301], [10.973049173043707, 59.72582541807504], [10.973000170282736, 59.72576014143671], [10.972664986974952, 59.725738771753], [10.972354737206372, 59.72571702673356], [10.972135088195698, 59.72572032554402], [10.972058369144396, 59.725668667377654], [10.972027190958862, 59.72562352669563], [10.971752118796209, 59.725674466260266], [10.971650011787561, 59.72567599933797], [10.971615683007018, 59.72561770329618], [10.971426987385923, 59.725642140401774], [10.971363201285712, 59.725608291190596], [10.971101291966134, 59.72560022034181], [10.970942888569466, 59.72559419622687], [10.970889801034465, 59.72558059018803], [10.970753134091348, 59.72560064475172], [10.970503146513025, 59.725674009663166], [10.970373485780772, 59.72573236615857], [10.970325100996915, 59.725758297026374], [10.970178746925793, 59.72581570355336], [10.970057878059514, 59.725861925491394], [10.97011068565295, 59.726113182220466], [10.970166502343934, 59.72625397234137], [10.970090308930171, 59.72629202258128], [10.970118288989658, 59.72648484034148], [10.970292697809475, 59.726621450760064], [10.970396038047728, 59.726721620018004], [10.970334179998526, 59.726760955589626], [10.970188815621121, 59.72687565835302], [10.970443710260806, 59.72716829160156], [10.970657858791052, 59.727293503198226], [10.970847788819615, 59.72733026066632], [10.971084905892353, 59.72732070076865], [10.971072134799961, 59.727366201256444], [10.97127069212312, 59.727347617901515], [10.971464403677048, 59.72728709882168], [10.97169425495329, 59.72727524642679], [10.971786893996095, 59.72731466345967], [10.971953122818878, 59.727312167497], [10.972122971101275, 59.7272904132321], [10.972441859806853, 59.7272568184335], [10.972685790330633, 59.72720154441464], [10.972845829005275, 59.72713432767107], [10.972940267117343, 59.72704289137619], [10.973024570183801, 59.72694080517197], [10.973322770113535, 59.72673768589425], [10.973462790819344, 59.726613157917264], [10.973555769844026, 59.7265373461136], [10.973620464845773, 59.72646556002036], [10.973562145414963, 59.7263632163334], [10.973533876457848, 59.72628682617499]]]], &quot;type&quot;: &quot;MultiPolygon&quot;}, &quot;id&quot;: &quot;4&quot;, &quot;properties&quot;: {&quot;filename&quot;: &quot;braatan_area_2_202304&quot;, &quot;id&quot;: 4.0, &quot;weather&quot;: null}, &quot;type&quot;: &quot;Feature&quot;}, {&quot;bbox&quot;: [10.97317296634328, 59.72468757217064, 10.976506644889975, 59.72649519141553], &quot;geometry&quot;: {&quot;coordinates&quot;: [[[[10.973203462990698, 59.72594312325301], [10.97317296634328, 59.726030598464185], [10.973181601488108, 59.72609648159596], [10.973297687310987, 59.72621116000549], [10.973533876457848, 59.72628682617499], [10.9735644638765, 59.72628156556024], [10.973880882438948, 59.726327219744576], [10.974043587218011, 59.7263859860103], [10.974288090481581, 59.72646152587174], [10.974747652688938, 59.72645581628733], [10.975113093113256, 59.726486327545516], [10.975241959907398, 59.72649519141553], [10.97546510480229, 59.72649063463211], [10.975523975481332, 59.726481347390646], [10.975714342223093, 59.72642477298857], [10.97611749649128, 59.72608744208818], [10.976287902425822, 59.72571280477139], [10.976380384966209, 59.725548180923006], [10.976506644889975, 59.72535184249102], [10.976427985418269, 59.725146585882946], [10.975995129455136, 59.72498026602342], [10.975471763275456, 59.724810505448914], [10.975088617678006, 59.72480186588716], [10.974827250007515, 59.72476258826795], [10.974722883409397, 59.724725750227414], [10.974456401820945, 59.724760963341865], [10.974228673603788, 59.72468757217064], [10.973775566852394, 59.725104863610305], [10.974074815969585, 59.7251819813902], [10.973878478699113, 59.72535896672457], [10.973759440047619, 59.72551678643644], [10.973432857089225, 59.72576234160653], [10.973238393079098, 59.725930896112466], [10.973203462990698, 59.72594312325301]]]], &quot;type&quot;: &quot;MultiPolygon&quot;}, &quot;id&quot;: &quot;5&quot;, &quot;properties&quot;: {&quot;filename&quot;: &quot;braatan_area_2_202304&quot;, &quot;id&quot;: 5.0, &quot;weather&quot;: null}, &quot;type&quot;: &quot;Feature&quot;}, {&quot;bbox&quot;: [10.899979467166, 59.64115954531701, 10.90372602409151, 59.64277226903453], &quot;geometry&quot;: {&quot;coordinates&quot;: [[[[10.90372602409151, 59.64173638192164], [10.90255108737196, 59.6413687373701], [10.902140226687886, 59.64121103152041], [10.901973278326095, 59.64115954531701], [10.901596936718772, 59.64123882477503], [10.901278496318996, 59.64139205510381], [10.900289504077342, 59.642121770478745], [10.90004540337598, 59.64228363334585], [10.899979467166, 59.64237297895775], [10.900009830338766, 59.64242644716907], [10.900166269603469, 59.64251257004565], [10.900567486651308, 59.642584460133065], [10.900883344445708, 59.64267361339017], [10.901157628122036, 59.64274005708281], [10.901414626951485, 59.64277226903453], [10.901618542596449, 59.64274794255028], [10.901775734856711, 59.642711666331934], [10.901856214960791, 59.64265901896581], [10.90203849000094, 59.64260829443481], [10.903010965125612, 59.64226490525007], [10.903438591879778, 59.64197312941732], [10.90372602409151, 59.64173638192164]]]], &quot;type&quot;: &quot;MultiPolygon&quot;}, &quot;id&quot;: &quot;6&quot;, &quot;properties&quot;: {&quot;filename&quot;: &quot;krakstad_202304_sun&quot;, &quot;id&quot;: 3.0, &quot;weather&quot;: null}, &quot;type&quot;: &quot;Feature&quot;}, {&quot;bbox&quot;: [10.875951974291471, 59.575788684011215, 10.879650899710834, 59.57916362802123], &quot;geometry&quot;: {&quot;coordinates&quot;: [[[[10.876203373693938, 59.5790456852737], [10.877546953650425, 59.57916362802123], [10.877626385569132, 59.57878616782083], [10.877610231625441, 59.57849631846461], [10.877967113076263, 59.57865976128123], [10.878121773499183, 59.57866146312856], [10.878198994533083, 59.57866035554277], [10.878739837190365, 59.57851931643111], [10.878977910561094, 59.5784923803611], [10.87931178191335, 59.57838174868403], [10.879492740480027, 59.57830075114224], [10.879632902927188, 59.57818113879519], [10.879650899710834, 59.57753407782446], [10.879194801365035, 59.57753147751095], [10.879168664052386, 59.57738615869686], [10.878722158927284, 59.577393872455886], [10.878600492287777, 59.57738320465558], [10.87856326900077, 59.577339311847375], [10.878529189097435, 59.57732869406131], [10.878434767412013, 59.57732155525874], [10.878261076596841, 59.57730183341354], [10.878173562955382, 59.57730308869826], [10.877936039122952, 59.576923803999826], [10.877686616407116, 59.576877589014444], [10.87764841808707, 59.57680708185589], [10.877716682980209, 59.576408201199236], [10.87771819256282, 59.576342845973706], [10.877219037298099, 59.57630688291667], [10.877258421642576, 59.575996637148194], [10.877283079343268, 59.575838176381886], [10.876177848618141, 59.575788684011215], [10.876150539216733, 59.57594587584575], [10.876646605191103, 59.57597274049556], [10.876518180099868, 59.57671938359128], [10.876430175716216, 59.57726683322383], [10.876021604416534, 59.577238714064805], [10.875951974291471, 59.577561152643455], [10.87634626913149, 59.57761038336327], [10.876390739469608, 59.57776131993526], [10.876418414607874, 59.57807321767539], [10.876180587155782, 59.578983454906], [10.876203373693938, 59.5790456852737]]]], &quot;type&quot;: &quot;MultiPolygon&quot;}, &quot;id&quot;: &quot;7&quot;, &quot;properties&quot;: {&quot;filename&quot;: &quot;ortho_hobol_regen_040122_60m&quot;, &quot;id&quot;: null, &quot;weather&quot;: &quot;sun&quot;}, &quot;type&quot;: &quot;Feature&quot;}, {&quot;bbox&quot;: [10.779045242126022, 59.64126834511663, 10.781565856430671, 59.644019430549235], &quot;geometry&quot;: {&quot;coordinates&quot;: [[[[10.780480107502385, 59.64126834511663], [10.780451378662644, 59.64147011921231], [10.78023685535938, 59.6414251543552], [10.780301763182697, 59.64149587888352], [10.780232555683272, 59.641776952335164], [10.780008895000861, 59.641884494823316], [10.78001350451466, 59.641971520443626], [10.779965587276092, 59.64200507095271], [10.779893214146485, 59.642009924041076], [10.779814737545536, 59.642043889339774], [10.779437463537828, 59.64206594396169], [10.779045242126022, 59.64209449001315], [10.779170519063415, 59.64222245472365], [10.780016257597273, 59.64224000501031], [10.780083317790194, 59.64235134158627], [10.779786326610045, 59.642517937994924], [10.779550876907939, 59.642836102760654], [10.77946285280728, 59.64297857380214], [10.779447849002892, 59.643056189138036], [10.779496966251795, 59.6431174518997], [10.779416115004352, 59.64332320638089], [10.779379829084867, 59.64343207520703], [10.77937302271833, 59.64359231303616], [10.779428930524714, 59.64370960715507], [10.779354372007507, 59.64374545424987], [10.779246661224409, 59.643804974684386], [10.77921937709137, 59.64386727427926], [10.779230601189886, 59.64393485720624], [10.779273307910675, 59.644019430549235], [10.781325122635115, 59.643999312605196], [10.781501413845746, 59.64386338220494], [10.781562869526415, 59.643796747208924], [10.781560511327125, 59.64375226749747], [10.781326973288191, 59.64374576401687], [10.781177299547883, 59.64366264444318], [10.78103178172069, 59.64351366827627], [10.780976381146747, 59.6434060443681], [10.780873370206054, 59.643337772976], [10.780857093138586, 59.64324703526629], [10.780940239242824, 59.643156882429075], [10.78091683451877, 59.64307591800543], [10.78088340473275, 59.643022183852494], [10.780898479784067, 59.643018108507526], [10.781050255072145, 59.64299669397611], [10.78116467752671, 59.642919663182795], [10.781162114929524, 59.64287131565338], [10.781190317224626, 59.64282642077635], [10.78121210956137, 59.64280483649682], [10.781411698093692, 59.642747936691215], [10.781565856430671, 59.642699395055786], [10.781440799270225, 59.642575783970834], [10.781342867049347, 59.64245906160333], [10.781416167174314, 59.64225534367508], [10.781503258450089, 59.64209546624528], [10.781446142794609, 59.64188335994611], [10.781253383870766, 59.6417084156172], [10.781032502417988, 59.64157981627076], [10.780757222777968, 59.6414345377663], [10.780569088043714, 59.641328716422116], [10.780480107502385, 59.64126834511663]]]], &quot;type&quot;: &quot;MultiPolygon&quot;}, &quot;id&quot;: &quot;8&quot;, &quot;properties&quot;: {&quot;filename&quot;: &quot;Grue1_190422_p4p&quot;, &quot;id&quot;: null, &quot;weather&quot;: &quot;sun&quot;}, &quot;type&quot;: &quot;Feature&quot;}, {&quot;bbox&quot;: [10.695151760649436, 59.60949809192423, 10.700276813945404, 59.611637905615225], &quot;geometry&quot;: {&quot;coordinates&quot;: [[[[10.697456730244081, 59.61159504485295], [10.698079985248459, 59.61149718567906], [10.6985572536573, 59.61148555859871], [10.699373371066034, 59.611591968802465], [10.699555254267462, 59.6115787269965], [10.699859328516428, 59.611327196159756], [10.699968176900018, 59.611037386417266], [10.700114040522756, 59.61063010478588], [10.700276813945404, 59.61034503652824], [10.700235691278918, 59.610168722443944], [10.699993705563427, 59.6100548705568], [10.699942807013981, 59.610003836951954], [10.699912417304974, 59.60982738353404], [10.699859321635659, 59.609732846668585], [10.699814750560602, 59.60970077606662], [10.699711435330231, 59.609674908933], [10.69964375508828, 59.60961048923523], [10.699479910994759, 59.60955547896685], [10.699079718311706, 59.60949809192423], [10.698886566398455, 59.60950059633944], [10.698800846266746, 59.60961053700736], [10.698764100185429, 59.609733446370235], [10.698678104563292, 59.60983794905228], [10.698474206785939, 59.60994670070964], [10.698270184206486, 59.609946624367026], [10.698029304304399, 59.609854520442866], [10.69788224371541, 59.6098128943575], [10.697686346391546, 59.609761017923546], [10.697626367067624, 59.609742749883246], [10.697472005634653, 59.60976923622531], [10.697287371646034, 59.60983420474979], [10.697265893179228, 59.60994059148857], [10.697178422468864, 59.60998933725144], [10.69713187782347, 59.61005115655195], [10.69711014186916, 59.61004599660633], [10.696894428025493, 59.610027024417676], [10.696620654439737, 59.61002784875599], [10.696443595508603, 59.610030141171286], [10.696242998845419, 59.610098035583], [10.696128522592689, 59.6101702564209], [10.695727621283572, 59.61020537313572], [10.695660358584867, 59.61014910822822], [10.695635334540338, 59.610078693060956], [10.695562158812992, 59.61001162170072], [10.69536735974537, 59.609981493451706], [10.695151760649436, 59.610071346122204], [10.695225026019669, 59.61035335421533], [10.695275346896393, 59.610499622616246], [10.695403411188886, 59.610590470545624], [10.69528025517995, 59.61070361385786], [10.695213082521311, 59.61086228521152], [10.695204746999472, 59.61122969155366], [10.695928651871204, 59.61142437933289], [10.696829358110376, 59.61161133242593], [10.69708841890575, 59.611637905615225], [10.697456730244081, 59.61159504485295]]]], &quot;type&quot;: &quot;MultiPolygon&quot;}, &quot;id&quot;: &quot;9&quot;, &quot;properties&quot;: {&quot;filename&quot;: &quot;Tjunction_190416_p4p&quot;, &quot;id&quot;: null, &quot;weather&quot;: &quot;cloud&quot;}, &quot;type&quot;: &quot;Feature&quot;}, {&quot;bbox&quot;: [10.720810199011085, 59.612698010855695, 10.72599039903849, 59.614307676661205], &quot;geometry&quot;: {&quot;coordinates&quot;: [[[[10.721031830731604, 59.614307676661205], [10.720810199011085, 59.61389308682907], [10.721178831908498, 59.61369867781463], [10.72151465676894, 59.61382064502956], [10.721845535587514, 59.613671865256634], [10.722111611524609, 59.6135623011651], [10.722246059905112, 59.61357858830666], [10.722324673999603, 59.61354821720979], [10.722309589803137, 59.61351456406693], [10.72251577637599, 59.61345317820931], [10.722601444078613, 59.613386606063], [10.722855664206026, 59.613306534147085], [10.72315432926846, 59.61331163419308], [10.723891144413004, 59.61300179407962], [10.724043047698952, 59.61301107945737], [10.724325352923538, 59.61295771626039], [10.724480666547832, 59.612946645403376], [10.72469655633672, 59.612900925681124], [10.725221508778008, 59.61271573128367], [10.725367572612305, 59.612698010855695], [10.725666755617219, 59.61280013907794], [10.72585455645251, 59.61290147685931], [10.725906406652708, 59.61295721301549], [10.72599039903849, 59.61311859361779], [10.725979768903771, 59.61325865287705], [10.725737983633431, 59.61332051306924], [10.723560440283663, 59.6135883884229], [10.723127315923243, 59.61374077385975], [10.723135339545204, 59.61398439845407], [10.721077329883611, 59.61423937633941], [10.721031830731604, 59.614307676661205]]]], &quot;type&quot;: &quot;MultiPolygon&quot;}, &quot;id&quot;: &quot;10&quot;, &quot;properties&quot;: {&quot;filename&quot;: &quot;gjekstad_190410_p4p&quot;, &quot;id&quot;: null, &quot;weather&quot;: &quot;sun&quot;}, &quot;type&quot;: &quot;Feature&quot;}, {&quot;bbox&quot;: [10.657674569336889, 59.618772841683914, 10.663142773438208, 59.622271494612754], &quot;geometry&quot;: {&quot;coordinates&quot;: [[[[10.659854952179037, 59.622271494612754], [10.658996250898362, 59.62184908628605], [10.658448750019787, 59.62101156102893], [10.65820456081106, 59.62048410354259], [10.658007027096767, 59.62019480164284], [10.6578842793784, 59.62000624167457], [10.657703105868556, 59.619694626259516], [10.657674569336889, 59.619292655590876], [10.657864712286893, 59.619078031604104], [10.659001344558662, 59.618944275474625], [10.659945224207895, 59.61879526596644], [10.660319372772976, 59.618772841683914], [10.660471562641936, 59.61885049571678], [10.660760469223332, 59.619222639612026], [10.66108186861575, 59.61954573755941], [10.661123108184142, 59.62038082732663], [10.661321121134328, 59.62103265950206], [10.661792773458588, 59.62121679307079], [10.662623973284266, 59.62108245707436], [10.663142773438208, 59.62169042593802], [10.6609042429468, 59.62213440771455], [10.659854952179037, 59.622271494612754]]]], &quot;type&quot;: &quot;MultiPolygon&quot;}, &quot;id&quot;: &quot;11&quot;, &quot;properties&quot;: {&quot;filename&quot;: &quot;Raanaas_190419_p4p&quot;, &quot;id&quot;: null, &quot;weather&quot;: &quot;sun&quot;}, &quot;type&quot;: &quot;Feature&quot;}, {&quot;bbox&quot;: [10.779045242126022, 59.64092879070701, 10.781565856430671, 59.644019430549235], &quot;geometry&quot;: {&quot;coordinates&quot;: [[[[10.779273307910675, 59.644019430549235], [10.781325122635115, 59.643999312605196], [10.781501413845746, 59.64386338220494], [10.781562869526415, 59.643796747208924], [10.781560511327125, 59.64375226749747], [10.781326973288191, 59.64374576401687], [10.781177299547883, 59.64366264444318], [10.78103178172069, 59.64351366827627], [10.780976381146747, 59.6434060443681], [10.780873370206054, 59.643337772976], [10.780857093138586, 59.64324703526629], [10.780940239242824, 59.643156882429075], [10.78091683451877, 59.64307591800543], [10.78088340473275, 59.643022183852494], [10.780898479784067, 59.643018108507526], [10.781050255072145, 59.64299669397611], [10.78116467752671, 59.642919663182795], [10.781162114929524, 59.64287131565338], [10.781190317224626, 59.64282642077635], [10.78121210956137, 59.64280483649682], [10.781411698093692, 59.642747936691215], [10.781565856430671, 59.642699395055786], [10.781440799270225, 59.642575783970834], [10.781342867049347, 59.64245906160333], [10.781416167174314, 59.64225534367508], [10.781503258450089, 59.64209546624528], [10.781446142794609, 59.64188335994611], [10.781253383870766, 59.6417084156172], [10.781032502417988, 59.64157981627076], [10.780757222777968, 59.6414345377663], [10.780569088043714, 59.641328716422116], [10.780436257570576, 59.64123859381651], [10.780278291801796, 59.641143006499945], [10.780108725401293, 59.640954682409465], [10.779449880896914, 59.64092879070701], [10.779419496370075, 59.64100467952439], [10.779416905337063, 59.641027938208765], [10.77906507566051, 59.64102497154553], [10.779095947983485, 59.64124711133323], [10.779521451878919, 59.641341972080525], [10.779931606441824, 59.641363498694986], [10.780015949793755, 59.6413681595287], [10.78023685535938, 59.6414251543552], [10.780301763182697, 59.64149587888352], [10.780232555683272, 59.641776952335164], [10.780008895000861, 59.641884494823316], [10.78001350451466, 59.641971520443626], [10.779965587276092, 59.64200507095271], [10.779893214146485, 59.642009924041076], [10.779814737545536, 59.642043889339774], [10.779437463537828, 59.64206594396169], [10.779045242126022, 59.64209449001315], [10.779170519063415, 59.64222245472365], [10.780016257597273, 59.64224000501031], [10.780083317790194, 59.64235134158627], [10.779786326610045, 59.642517937994924], [10.779550876907939, 59.642836102760654], [10.77946285280728, 59.64297857380214], [10.779447849002892, 59.643056189138036], [10.779496966251795, 59.6431174518997], [10.779416115004352, 59.64332320638089], [10.779379829084867, 59.64343207520703], [10.77937302271833, 59.64359231303616], [10.779428930524714, 59.64370960715507], [10.779354372007507, 59.64374545424987], [10.779246661224409, 59.643804974684386], [10.77921937709137, 59.64386727427926], [10.779230601189886, 59.64393485720624], [10.779273307910675, 59.644019430549235]]]], &quot;type&quot;: &quot;MultiPolygon&quot;}, &quot;id&quot;: &quot;12&quot;, &quot;properties&quot;: {&quot;filename&quot;: &quot;Grue1_190422_p4p&quot;, &quot;id&quot;: null, &quot;weather&quot;: &quot;sun&quot;}, &quot;type&quot;: &quot;Feature&quot;}, {&quot;bbox&quot;: [10.925727922888678, 59.67684324808594, 10.927314948785083, 59.67779216231741], &quot;geometry&quot;: {&quot;coordinates&quot;: [[[[10.926289878770772, 59.67779216231741], [10.926642161848232, 59.67772928418051], [10.926782874622956, 59.677672260260145], [10.92689939345253, 59.677619713332774], [10.92698101842089, 59.67757454849522], [10.927042020624807, 59.67745411996606], [10.927030387138261, 59.67720423425578], [10.927116493685306, 59.67714251624598], [10.927204255572116, 59.677109626545175], [10.927314948785083, 59.677050295107094], [10.92726678790423, 59.676968566349714], [10.927244948885104, 59.67691942541433], [10.927194907397718, 59.67689955144234], [10.927131057559807, 59.676875758470196], [10.927046123459869, 59.676863266660135], [10.926748566458887, 59.67688549810888], [10.926589319618186, 59.67685623615763], [10.926517957651336, 59.67684354470312], [10.926444590640799, 59.67684324808594], [10.926277087221573, 59.67685944692008], [10.92598114103147, 59.67686241785559], [10.925849081812142, 59.67688084368257], [10.925758132102372, 59.676905535641914], [10.925727922888678, 59.67694719716779], [10.925870217137549, 59.67701243137313], [10.925997521707275, 59.677053154617184], [10.926068454566709, 59.67710569682767], [10.926087235116638, 59.67729090259819], [10.926022219195806, 59.67743612044188], [10.925957746540728, 59.67749614618791], [10.925935522782353, 59.67753494265688], [10.925928446964239, 59.67760099549298], [10.925907956473456, 59.67766999312099], [10.92599340828343, 59.6777388094907], [10.926015911832918, 59.67775221850451], [10.926289878770772, 59.67779216231741]]]], &quot;type&quot;: &quot;MultiPolygon&quot;}, &quot;id&quot;: &quot;13&quot;, &quot;properties&quot;: {&quot;filename&quot;: &quot;Lynne2_190421_p4p&quot;, &quot;id&quot;: null, &quot;weather&quot;: &quot;sun&quot;}, &quot;type&quot;: &quot;Feature&quot;}, {&quot;bbox&quot;: [10.918784782647021, 59.676587422907104, 10.925359449556737, 59.67992635955425], &quot;geometry&quot;: {&quot;coordinates&quot;: [[[[10.919441331200625, 59.67992635955425], [10.919756556131262, 59.679846808809145], [10.919782217162824, 59.679613728586645], [10.919852830641098, 59.67934843739182], [10.920001370105505, 59.6790820058], [10.920368326780899, 59.67881632141324], [10.920833300478032, 59.67862808396477], [10.921177754114906, 59.678650649631535], [10.921454331430882, 59.678713649979834], [10.921634464286111, 59.67872678839666], [10.922002866484876, 59.67862278830203], [10.92226985396057, 59.67838222773885], [10.922738649725467, 59.67826097795818], [10.923088748149514, 59.67810991313119], [10.923318230370791, 59.67803161032806], [10.92356578136704, 59.67799642788892], [10.923700737971101, 59.678037834855935], [10.923789843915811, 59.67809569062282], [10.923972459836158, 59.67815217509101], [10.92416659367235, 59.67813749561532], [10.924503015396683, 59.67788407949739], [10.924811760034501, 59.677556129564216], [10.925092720897759, 59.677287748848855], [10.925356631783766, 59.677130054064534], [10.925359449556737, 59.677043241278916], [10.925219068708381, 59.6769072558849], [10.925214094672759, 59.676820557442596], [10.925087717081633, 59.67665675733692], [10.924974558280569, 59.676587422907104], [10.924827412468513, 59.6766053584539], [10.924538544628069, 59.6767358092138], [10.924272599092145, 59.67685803480123], [10.924138215135915, 59.676962553784136], [10.924106710948383, 59.67709317292815], [10.924047762504477, 59.67715319975954], [10.923757531375852, 59.677260003783026], [10.92270579650423, 59.67755151194437], [10.922229895357988, 59.67768469827375], [10.922034183148892, 59.677671788960055], [10.92199940211808, 59.677609192059705], [10.921959311758537, 59.67759005860049], [10.921778282113957, 59.6775611572143], [10.921591942842008, 59.67757571901588], [10.920852552554754, 59.67787446938825], [10.92035970126139, 59.677984232073165], [10.920121392580112, 59.678180983301985], [10.919694805810447, 59.67849486936257], [10.919533867087841, 59.678544553861855], [10.919208059858633, 59.67843888402475], [10.91886666959746, 59.67833344130676], [10.918827256198702, 59.678326129444265], [10.918784782647021, 59.67840168943145], [10.919012761087158, 59.67870599864067], [10.919117542228403, 59.67890167342448], [10.919174441316304, 59.679078327799196], [10.919064537780297, 59.67920220396171], [10.919077385190658, 59.679426832468494], [10.919298933103493, 59.67975490017416], [10.919307273830235, 59.679900711629735], [10.919307273830235, 59.679900711629735], [10.919441331200625, 59.67992635955425]]]], &quot;type&quot;: &quot;MultiPolygon&quot;}, &quot;id&quot;: &quot;14&quot;, &quot;properties&quot;: {&quot;filename&quot;: &quot;Lynne1_190421_p4p&quot;, &quot;id&quot;: null, &quot;weather&quot;: &quot;sun&quot;}, &quot;type&quot;: &quot;Feature&quot;}, {&quot;bbox&quot;: [10.7782512163476, 59.63965767552606, 10.780486819483503, 59.64147011921231], &quot;geometry&quot;: {&quot;coordinates&quot;: [[[[10.778525184949224, 59.64124335182832], [10.7782512163476, 59.641162018472706], [10.778377784278739, 59.64088053383248], [10.778405115054413, 59.64064515802955], [10.778510226165164, 59.64054301576469], [10.778789985087043, 59.64048326691813], [10.779064970368506, 59.64041686780785], [10.779235001463185, 59.64037203574746], [10.779329379766788, 59.64023422813255], [10.779447265377435, 59.64012295912722], [10.779442173452619, 59.64002678802253], [10.779529491513372, 59.63992264823386], [10.779596735394327, 59.63985682931962], [10.77974266266994, 59.63977427527677], [10.779751295785232, 59.639686870437565], [10.779758590836117, 59.63965767552606], [10.779936706386287, 59.639682115255845], [10.780159232719848, 59.63971042803939], [10.78026829562348, 59.63984995029246], [10.780328074271027, 59.640227385077196], [10.780124024574013, 59.64054797227779], [10.780112920032456, 59.64083908186081], [10.780200846627082, 59.640996796306254], [10.780257411242307, 59.64106317260919], [10.780412346972733, 59.64115059455032], [10.780486819483503, 59.64122120386868], [10.780451378662644, 59.64147011921231], [10.78023685535938, 59.6414251543552], [10.779931606441824, 59.641363498694986], [10.779409017048067, 59.641320885434666], [10.778889319478479, 59.641274222140886], [10.778525184949224, 59.64124335182832]]]], &quot;type&quot;: &quot;MultiPolygon&quot;}, &quot;id&quot;: &quot;15&quot;, &quot;properties&quot;: {&quot;filename&quot;: &quot;Grue2_190417_p4p&quot;, &quot;id&quot;: null, &quot;weather&quot;: &quot;sun&quot;}, &quot;type&quot;: &quot;Feature&quot;}, {&quot;bbox&quot;: [10.829664178320547, 59.62417561047229, 10.834488574301037, 59.6271254249116], &quot;geometry&quot;: {&quot;coordinates&quot;: [[[[10.833664880627651, 59.6271254249116], [10.832841766014527, 59.62696540824965], [10.832675335632349, 59.62672269368919], [10.832556309548387, 59.62661000508378], [10.831819562801439, 59.62655495930879], [10.83139681936279, 59.62649143832833], [10.830491947358222, 59.62601399538475], [10.830262194615822, 59.62579258239622], [10.83023808478994, 59.62564589410305], [10.830293492783017, 59.62533065030169], [10.830229826819526, 59.6250497414818], [10.830012802780612, 59.62491391492352], [10.82992268748897, 59.62473955996505], [10.829836570150471, 59.62463866161766], [10.829727901026267, 59.62441964127057], [10.8296742331054, 59.62432237384004], [10.829664178320547, 59.62428575796243], [10.830991382444315, 59.6245245173152], [10.831210520954292, 59.62440301893495], [10.831479552494526, 59.62430941118788], [10.831815034820389, 59.62425163041227], [10.83190837783984, 59.62418906533942], [10.832286586224098, 59.62417561047229], [10.832490888197594, 59.62422584656211], [10.832727661829615, 59.62487189668515], [10.833030650162966, 59.624957508261154], [10.833304575514068, 59.624953676999915], [10.833474432166183, 59.624963553101665], [10.833664538604202, 59.625344792495454], [10.833524412874354, 59.62543660148094], [10.833661109193677, 59.62557763022402], [10.833937443153978, 59.625765713441496], [10.834171269963592, 59.62591355063753], [10.834280461181965, 59.62599370320185], [10.833879397993975, 59.62603198760232], [10.83364013932027, 59.62608025934215], [10.833605594598918, 59.62633395248595], [10.833800696880722, 59.62651092029521], [10.83398307006258, 59.626602301299684], [10.834050419815183, 59.62665445130149], [10.834398207850729, 59.62667408850019], [10.834466671571828, 59.62674664285876], [10.834488574301037, 59.62685252111045], [10.83443796325713, 59.62695941425665], [10.834430128789096, 59.62696360793572], [10.833664880627651, 59.6271254249116]]]], &quot;type&quot;: &quot;MultiPolygon&quot;}, &quot;id&quot;: &quot;16&quot;, &quot;properties&quot;: {&quot;filename&quot;: &quot;Godager_190517_p4p&quot;, &quot;id&quot;: null, &quot;weather&quot;: &quot;sun&quot;}, &quot;type&quot;: &quot;Feature&quot;}, {&quot;bbox&quot;: [10.663338887926423, 59.65631422857852, 10.668292108197859, 59.6601488091567], &quot;geometry&quot;: {&quot;coordinates&quot;: [[[[10.66622805097429, 59.6601488091567], [10.665449335136334, 59.65970949726465], [10.665409601827655, 59.65947357975598], [10.665454151484061, 59.65924132050963], [10.665590680476022, 59.65897952260582], [10.665674926083062, 59.65879404356873], [10.66560440040071, 59.65869091347878], [10.665310654574718, 59.6584203938202], [10.664976983132549, 59.65809836751516], [10.664752597458333, 59.65790734966367], [10.664505820214497, 59.65783009818176], [10.664313200356867, 59.65771433151674], [10.664039554660002, 59.65747192471354], [10.663758447475265, 59.65726743953347], [10.663429015099888, 59.657030467597785], [10.663338887926423, 59.65690867119242], [10.663994396505881, 59.65674904627805], [10.664321488455073, 59.656938762104495], [10.664539776142867, 59.657006918571646], [10.664803115479147, 59.65704140375344], [10.665175935116656, 59.65702248563557], [10.665181290397214, 59.65694203413516], [10.664809143263922, 59.65678599140882], [10.664746119491317, 59.656834075785355], [10.664729052374524, 59.65667825384867], [10.664799774266763, 59.65659697267237], [10.664795558258335, 59.65651191423889], [10.664818653279562, 59.656412323811296], [10.665051163442312, 59.65639045848234], [10.665422301949917, 59.65631422857852], [10.665701676048993, 59.65660147999385], [10.666015530154509, 59.65654769721377], [10.666095537519132, 59.656512399679926], [10.66615679066676, 59.656522851609665], [10.666216578639828, 59.65664503159578], [10.666325609063179, 59.65686514443522], [10.666377891712996, 59.65698904510784], [10.666538503064722, 59.65714230421982], [10.66673069068805, 59.65729634399342], [10.666804359956341, 59.657556949820545], [10.66683641467923, 59.6576144658856], [10.66687265966871, 59.657779944065176], [10.666995236002595, 59.65786098620738], [10.667160113061755, 59.65800591560593], [10.667330388162322, 59.658141910353926], [10.667412396176955, 59.65819391505455], [10.667476685459688, 59.658194870909306], [10.667581032393873, 59.65815571672633], [10.667683660435575, 59.658128996478894], [10.667829014852046, 59.658115918180926], [10.667991538795917, 59.658142813149695], [10.668114727017654, 59.658177300869134], [10.668186759816447, 59.65821657650358], [10.668292108197859, 59.65835044052898], [10.66821862276124, 59.658446535146076], [10.668096024822926, 59.658635606758665], [10.668009081677116, 59.65871946023199], [10.668023887720725, 59.658758872657444], [10.66799801987476, 59.65882599089357], [10.667423212190403, 59.65887053600589], [10.667296945875723, 59.65878584704588], [10.667128441704707, 59.65877971414649], [10.666743957274356, 59.65878755583757], [10.666578555077328, 59.65882039246184], [10.666260241450152, 59.65910252813003], [10.666280882656327, 59.659283128796986], [10.666420119387443, 59.65949975477228], [10.666564549002697, 59.659632680317436], [10.666605358775584, 59.65974889518612], [10.666616008147063, 59.65986933513162], [10.66645284671543, 59.65982973881737], [10.666327241429963, 59.65984079146166], [10.666241335978746, 59.659898624077236], [10.66619507160045, 59.66000205537591], [10.66622805097429, 59.6601488091567]]]], &quot;type&quot;: &quot;MultiPolygon&quot;}, &quot;id&quot;: &quot;17&quot;, &quot;properties&quot;: {&quot;filename&quot;: &quot;kolstad_190414_p4p&quot;, &quot;id&quot;: null, &quot;weather&quot;: &quot;sun&quot;}, &quot;type&quot;: &quot;Feature&quot;}, {&quot;bbox&quot;: [10.970276445825297, 59.724912368256916, 10.976345880037263, 59.727384118628635], &quot;geometry&quot;: {&quot;coordinates&quot;: [[[[10.971082968713436, 59.727310250402866], [10.970820271759475, 59.72721829685181], [10.970988304889906, 59.72705491693365], [10.970909039522585, 59.72695711697381], [10.970599201639049, 59.72689680473882], [10.970400923508636, 59.726754388931866], [10.970404071806755, 59.72659967046585], [10.970349409956414, 59.726399418016825], [10.97028141731681, 59.72618080500662], [10.970276445825297, 59.72599218068953], [10.97038921223719, 59.725826537235136], [10.970505432681435, 59.72571961691671], [10.970790169579198, 59.7256658492406], [10.970972746520578, 59.72574972500698], [10.971295113357948, 59.725710858571944], [10.971588880196444, 59.725706448415586], [10.971970148740496, 59.725731657928044], [10.972321363148373, 59.7257665980093], [10.972636403480767, 59.72581136083337], [10.973014285015322, 59.725883019620326], [10.973288014461566, 59.726058325517634], [10.973439380334884, 59.72602821009735], [10.97354353345877, 59.72592456177312], [10.973646410963084, 59.72579927853473], [10.97379569858855, 59.72562998965882], [10.973908519759389, 59.72556951872689], [10.974039228111055, 59.72560467508857], [10.974190226872873, 59.72556837743532], [10.97441102232948, 59.72546916164763], [10.9745995761103, 59.725342589422965], [10.974736875068015, 59.72528174968724], [10.974863573675954, 59.725248910081184], [10.975113584168868, 59.72522968287508], [10.975183119455098, 59.72505849838006], [10.975231272883672, 59.724940223760704], [10.975327734380075, 59.72491402535689], [10.975437894067884, 59.724912368256916], [10.975602665324882, 59.7250057858096], [10.975719389008917, 59.72511539320882], [10.975943721273481, 59.72518007335638], [10.976197925115837, 59.72523192987816], [10.976297385653899, 59.725360357158735], [10.976345880037263, 59.72545552367793], [10.976205097099328, 59.725664902202205], [10.976109808685255, 59.72581482078764], [10.975945921059328, 59.725944117491565], [10.976087129946007, 59.726053356170695], [10.97606145284663, 59.72613726515995], [10.97578677299703, 59.72615377184021], [10.975616762251684, 59.72628316022302], [10.975587072702972, 59.72629907401901], [10.975222515277727, 59.726245782706314], [10.974931842801944, 59.726302742705556], [10.974519204159416, 59.72647289937756], [10.97432991496027, 59.72658710874505], [10.974267693425697, 59.72667466016765], [10.973960112020647, 59.72675661958375], [10.973927944393449, 59.726834438795024], [10.973741929969657, 59.72700427974063], [10.973629031086261, 59.726959575104004], [10.973493400227118, 59.72684096972921], [10.973498719830522, 59.72672333954816], [10.973252378685546, 59.72659711734326], [10.973058461324094, 59.726528882174435], [10.972799154473995, 59.726390480242195], [10.972668851349917, 59.72615424380227], [10.972540985744093, 59.726063361690215], [10.972316540408404, 59.726100760518065], [10.972206626720647, 59.726210681189215], [10.972214453187123, 59.726343580984896], [10.972365230471775, 59.72651145496001], [10.972501584162426, 59.72664242430166], [10.97261921382471, 59.7267674879135], [10.972655459204148, 59.72686283968679], [10.972576692178936, 59.7269815730546], [10.972530164983512, 59.72712766295621], [10.972414128279842, 59.72723767572863], [10.972226579528913, 59.72727761357442], [10.971891229949598, 59.72730430338857], [10.971615810455832, 59.727308438629514], [10.971551694792394, 59.72725990639489], [10.971384507527873, 59.727333565018974], [10.971313973225, 59.727384118628635], [10.97118471608989, 59.727373685139156], [10.971082968713436, 59.727310250402866]]]], &quot;type&quot;: &quot;MultiPolygon&quot;}, &quot;id&quot;: &quot;18&quot;, &quot;properties&quot;: {&quot;filename&quot;: &quot;braatan_40m_20230605_sun&quot;, &quot;id&quot;: null, &quot;weather&quot;: &quot;sun&quot;}, &quot;type&quot;: &quot;Feature&quot;}, {&quot;bbox&quot;: [10.667673100859373, 59.6138928055829, 10.672246237160255, 59.61655674146574], &quot;geometry&quot;: {&quot;coordinates&quot;: [[[[10.668632771435036, 59.61644867470649], [10.668419866872004, 59.61615611210218], [10.66833153653897, 59.61600017636528], [10.668263506872202, 59.61587853540211], [10.668414634853153, 59.61567557435551], [10.668455139880306, 59.61536722057271], [10.66857777704841, 59.6152148813087], [10.66851734500589, 59.615121414581346], [10.668379763045351, 59.61497238834799], [10.668439228839652, 59.6149213719903], [10.668463512829279, 59.614785990983506], [10.66847154501885, 59.61469793496606], [10.668409121834081, 59.6146893060913], [10.668344239119794, 59.61475609742873], [10.668321013282794, 59.61478780516307], [10.668281068451329, 59.61485742019484], [10.668248564406726, 59.614952070133334], [10.6680713503415, 59.61487893702344], [10.66795129847769, 59.614833346991105], [10.667799335054486, 59.614769315750934], [10.66785198326587, 59.61470582160708], [10.668138196544776, 59.61460166008305], [10.668190532550337, 59.61453188735754], [10.668130258486915, 59.61444155965625], [10.667891840512121, 59.61425926320383], [10.66770594566678, 59.61413598083087], [10.667673100859373, 59.61409870434951], [10.66853471138747, 59.61397151220859], [10.668740596161348, 59.61412280973087], [10.668907285230897, 59.614233770433586], [10.669096577282305, 59.6143004661618], [10.669124941448379, 59.61437235263735], [10.66925812858354, 59.61430783206281], [10.669414383900065, 59.61420846421187], [10.669465314723253, 59.61411043798794], [10.669523063838879, 59.61402488970238], [10.66940098817942, 59.61393849109948], [10.669293796099504, 59.613902162101645], [10.669535107726393, 59.6138928055829], [10.669703943156001, 59.61392206656637], [10.669965087719953, 59.61393758621213], [10.669979036828837, 59.613968820523326], [10.670142456696949, 59.61401385599627], [10.670500547822066, 59.61398416208987], [10.67059998721584, 59.61398917687108], [10.670874926751063, 59.6140327897189], [10.671037724446316, 59.61406526718911], [10.671056508068578, 59.61419381718765], [10.671158287082735, 59.614245919834325], [10.671303860810694, 59.61418123918307], [10.671438446564657, 59.61414496938472], [10.671534810319129, 59.6142128468526], [10.67179642588821, 59.614237780490846], [10.671926108301891, 59.61435235074572], [10.671909438106416, 59.614515906259236], [10.671776099296475, 59.61457729028929], [10.671569504643893, 59.61466159706433], [10.671590275042567, 59.614705309039074], [10.671650402874347, 59.61479249588432], [10.671681268619919, 59.61491460926751], [10.67171723836568, 59.61501466907905], [10.671820268862637, 59.61509188493406], [10.671793814275754, 59.61518331744805], [10.671705090459323, 59.615269261878325], [10.671695194798614, 59.61531964743429], [10.671848260062454, 59.61540564863229], [10.671988622580253, 59.615485529308614], [10.672115658080719, 59.6155467326362], [10.672246237160255, 59.615554490089416], [10.672202958053848, 59.615806338979], [10.672158696665385, 59.615913704813366], [10.67201623754673, 59.61604117076602], [10.672032997850096, 59.61612891074417], [10.672135876491463, 59.61620298710328], [10.672168884353608, 59.616243401640645], [10.6721698205659, 59.61626223694127], [10.670104168735607, 59.61648961471877], [10.669766508209369, 59.61655674146574], [10.669077043871097, 59.61653097097912], [10.668632771435036, 59.61644867470649]]]], &quot;type&quot;: &quot;MultiPolygon&quot;}, &quot;id&quot;: &quot;19&quot;, &quot;properties&quot;: {&quot;filename&quot;: &quot;galbyveien_20230504_sun&quot;, &quot;id&quot;: null, &quot;weather&quot;: &quot;sun&quot;}, &quot;type&quot;: &quot;Feature&quot;}], &quot;type&quot;: &quot;FeatureCollection&quot;});\n",
              "\n",
              "        \n",
              "    \n",
              "    geo_json_98b953642b4ee6204e18151bbb7a0459.bindTooltip(\n",
              "    function(layer){\n",
              "    let div = L.DomUtil.create(&#x27;div&#x27;);\n",
              "    \n",
              "    let handleObject = feature=&gt;typeof(feature)==&#x27;object&#x27; ? JSON.stringify(feature) : feature;\n",
              "    let fields = [&quot;id&quot;, &quot;filename&quot;, &quot;weather&quot;];\n",
              "    let aliases = [&quot;id&quot;, &quot;filename&quot;, &quot;weather&quot;];\n",
              "    let table = &#x27;&lt;table&gt;&#x27; +\n",
              "        String(\n",
              "        fields.map(\n",
              "        (v,i)=&gt;\n",
              "        `&lt;tr&gt;\n",
              "            &lt;th&gt;${aliases[i]}&lt;/th&gt;\n",
              "            \n",
              "            &lt;td&gt;${handleObject(layer.feature.properties[v])}&lt;/td&gt;\n",
              "        &lt;/tr&gt;`).join(&#x27;&#x27;))\n",
              "    +&#x27;&lt;/table&gt;&#x27;;\n",
              "    div.innerHTML=table;\n",
              "    \n",
              "    return div\n",
              "    }\n",
              "    ,{&quot;className&quot;: &quot;foliumtooltip&quot;, &quot;sticky&quot;: true});\n",
              "                     \n",
              "&lt;/script&gt;\n",
              "&lt;/html&gt;\" style=\"position:absolute;width:100%;height:100%;left:0;top:0;border:none !important;\" allowfullscreen webkitallowfullscreen mozallowfullscreen></iframe></div></div>"
            ]
          },
          "metadata": {},
          "execution_count": 9
        }
      ]
    },
    {
      "cell_type": "markdown",
      "id": "f20e607a-fbd2-403c-951b-59a9adc67515",
      "metadata": {
        "id": "f20e607a-fbd2-403c-951b-59a9adc67515"
      },
      "source": [
        "### 1.4 Tiling"
      ]
    },
    {
      "cell_type": "markdown",
      "source": [
        "For this example we will process a single orthomosaic. This process can be iterated through all of the available orthomosaics using a [for loop](https://wiki.python.org/moin/ForLoop)."
      ],
      "metadata": {
        "id": "E2ztNOWnCAO8"
      },
      "id": "E2ztNOWnCAO8"
    },
    {
      "cell_type": "code",
      "execution_count": null,
      "id": "85509937-95b3-45c0-9950-0b0af29b0df6",
      "metadata": {
        "colab": {
          "base_uri": "https://localhost:8080/",
          "height": 35
        },
        "id": "85509937-95b3-45c0-9950-0b0af29b0df6",
        "outputId": "faf22f4f-c9fb-4165-a69c-64b70db8abdb"
      },
      "outputs": [
        {
          "output_type": "execute_result",
          "data": {
            "text/plain": [
              "'galbyveien_20230504_sun'"
            ],
            "application/vnd.google.colaboratory.intrinsic+json": {
              "type": "string"
            }
          },
          "metadata": {},
          "execution_count": 9
        }
      ],
      "source": [
        "# get orthomosaic name\n",
        "ortho_name=os.path.splitext(os.path.basename(input_ortho_path)) [0]\n",
        "ortho_name"
      ]
    },
    {
      "cell_type": "markdown",
      "source": [
        "Define and create an output directory to store the tiles"
      ],
      "metadata": {
        "id": "VR3LBc5FMivV"
      },
      "id": "VR3LBc5FMivV"
    },
    {
      "cell_type": "code",
      "source": [
        "output_tiles_dir=path_data+\"/tiles/\"+str(tile_size_m)+\"m_\"+ortho_name\n",
        "if not os.path.exists(output_tiles_dir):\n",
        "    os.makedirs(output_tiles_dir)\n",
        "    \n",
        "output_tiles_dir"
      ],
      "metadata": {
        "id": "K1V8GTZ6MwIw"
      },
      "id": "K1V8GTZ6MwIw",
      "execution_count": null,
      "outputs": []
    },
    {
      "cell_type": "markdown",
      "source": [
        "Get raster metadata that will be required later in the excercise (resolution, geographical ref. system, number of bands in raster)"
      ],
      "metadata": {
        "id": "Ck14XhrfNbBP"
      },
      "id": "Ck14XhrfNbBP"
    },
    {
      "cell_type": "code",
      "source": [
        "# Get pixel resolution (in meters) and tile size in pixels\n",
        "src_ds = gdal.Open(input_ortho_path) # reads in the orthomosaic\n",
        "_, xres, _, _, _, yres  = src_ds.GetGeoTransform() # get pixel size in meters\n",
        "print(\"Ortho resolution: \"+str(round(xres,4))+\" m\")\n",
        "\n",
        "# Get EPSG code\n",
        "proj = osr.SpatialReference(wkt=src_ds.GetProjection())\n",
        "EPSG_code= proj.GetAttrValue('AUTHORITY',1)\n",
        "print(\"EPSG code: \"+str(EPSG_code))\n",
        "\n",
        "# get number of bands\n",
        "n_bands=src_ds.RasterCount\n",
        "print(\"Number of bands: \"+str(n_bands))"
      ],
      "metadata": {
        "colab": {
          "base_uri": "https://localhost:8080/"
        },
        "id": "F93xMyPeNdd0",
        "outputId": "9ab29556-c237-420b-d994-10bc25a51515"
      },
      "id": "F93xMyPeNdd0",
      "execution_count": null,
      "outputs": [
        {
          "output_type": "stream",
          "name": "stdout",
          "text": [
            "Ortho resolution: 0.0108 m\n",
            "EPSG code: 25832\n",
            "Number of bands: 4\n"
          ]
        }
      ]
    },
    {
      "cell_type": "markdown",
      "source": [
        "# **Do the actual tiling** 😀 \n",
        "The tiling is done using [gdal_retile](https://gdal.org/programs/gdal_retile.html)"
      ],
      "metadata": {
        "id": "iKS7DRSsN9b7"
      },
      "id": "iKS7DRSsN9b7"
    },
    {
      "cell_type": "code",
      "source": [
        "# Compute tile and buffer size in pixels\n",
        "tile_size_px= round(tile_size_m/abs(xres)) # calculate the tile size in pixels\n",
        "buffer_size_px= round(buffer_size_m/abs(xres)) # calculate the buffer size in pixels\n",
        "print(\"The tile size in pixels is: \"+str(tile_size_px))\n",
        "print(\"The size of the overalp between tiles in pixels is: \"+str(buffer_size_px))"
      ],
      "metadata": {
        "colab": {
          "base_uri": "https://localhost:8080/",
          "height": 235
        },
        "id": "_JE-4pJqGO1T",
        "outputId": "69fcc760-8a9b-4898-f8e1-01f50f4e6905"
      },
      "id": "_JE-4pJqGO1T",
      "execution_count": null,
      "outputs": [
        {
          "output_type": "error",
          "ename": "NameError",
          "evalue": "ignored",
          "traceback": [
            "\u001b[0;31m---------------------------------------------------------------------------\u001b[0m",
            "\u001b[0;31mNameError\u001b[0m                                 Traceback (most recent call last)",
            "\u001b[0;32m<ipython-input-1-3a13a8d24287>\u001b[0m in \u001b[0;36m<cell line: 2>\u001b[0;34m()\u001b[0m\n\u001b[1;32m      1\u001b[0m \u001b[0;31m# Compute tile and buffer size in pixels\u001b[0m\u001b[0;34m\u001b[0m\u001b[0;34m\u001b[0m\u001b[0m\n\u001b[0;32m----> 2\u001b[0;31m \u001b[0mtile_size_px\u001b[0m\u001b[0;34m=\u001b[0m \u001b[0mround\u001b[0m\u001b[0;34m(\u001b[0m\u001b[0mtile_size_m\u001b[0m\u001b[0;34m/\u001b[0m\u001b[0mabs\u001b[0m\u001b[0;34m(\u001b[0m\u001b[0mxres\u001b[0m\u001b[0;34m)\u001b[0m\u001b[0;34m)\u001b[0m \u001b[0;31m# calculate the tile size in pixels\u001b[0m\u001b[0;34m\u001b[0m\u001b[0;34m\u001b[0m\u001b[0m\n\u001b[0m\u001b[1;32m      3\u001b[0m \u001b[0mbuffer_size_px\u001b[0m\u001b[0;34m=\u001b[0m \u001b[0mround\u001b[0m\u001b[0;34m(\u001b[0m\u001b[0mbuffer_size_m\u001b[0m\u001b[0;34m/\u001b[0m\u001b[0mabs\u001b[0m\u001b[0;34m(\u001b[0m\u001b[0mxres\u001b[0m\u001b[0;34m)\u001b[0m\u001b[0;34m)\u001b[0m \u001b[0;31m# calculate the buffer size in pixels\u001b[0m\u001b[0;34m\u001b[0m\u001b[0;34m\u001b[0m\u001b[0m\n\u001b[1;32m      4\u001b[0m \u001b[0mprint\u001b[0m\u001b[0;34m(\u001b[0m\u001b[0;34m\"The tile size in pixels is: \"\u001b[0m\u001b[0;34m+\u001b[0m\u001b[0mstr\u001b[0m\u001b[0;34m(\u001b[0m\u001b[0mtile_size_px\u001b[0m\u001b[0;34m)\u001b[0m\u001b[0;34m)\u001b[0m\u001b[0;34m\u001b[0m\u001b[0;34m\u001b[0m\u001b[0m\n\u001b[1;32m      5\u001b[0m \u001b[0mprint\u001b[0m\u001b[0;34m(\u001b[0m\u001b[0;34m\"The size of the overalp between tiles in pixels is: \"\u001b[0m\u001b[0;34m+\u001b[0m\u001b[0mstr\u001b[0m\u001b[0;34m(\u001b[0m\u001b[0mbuffer_size_px\u001b[0m\u001b[0;34m)\u001b[0m\u001b[0;34m)\u001b[0m\u001b[0;34m\u001b[0m\u001b[0;34m\u001b[0m\u001b[0m\n",
            "\u001b[0;31mNameError\u001b[0m: name 'tile_size_m' is not defined"
          ]
        }
      ]
    },
    {
      "cell_type": "code",
      "source": [
        "# define name for output tile index shapefile\n",
        "tileIndex_name=ortho_name+\"_tile_index\"\n",
        "\n",
        "# Run gdal_retile.py using CLI (can take some minutes) \n",
        "command_retile = \"python \"+path_osgeo_utils+\"/gdal_retile.py -targetDir \" + output_tiles_dir + \" \" + input_ortho_path+ \" -overlap \" + str(buffer_size_px) + \" -ps \"+str(tile_size_px) + \" \" + str(tile_size_px) + \" -of GTiff -tileIndex \"+ tileIndex_name + \" -tileIndexField ID\"\n",
        "print(os.popen(command_retile).read()) "
      ],
      "metadata": {
        "id": "k629Q9YBOytd",
        "colab": {
          "base_uri": "https://localhost:8080/"
        },
        "outputId": "f9442d7d-ad5b-48d6-9130-7c7e8f93fd67"
      },
      "id": "k629Q9YBOytd",
      "execution_count": null,
      "outputs": [
        {
          "output_type": "stream",
          "name": "stdout",
          "text": [
            "0...10...20...30...40...50...60...70...80...90...100 - done.\n",
            "\n"
          ]
        }
      ]
    },
    {
      "cell_type": "markdown",
      "source": [
        "### 1.5 selecting only tiles that are fully within the footprint polygon"
      ],
      "metadata": {
        "id": "b_z7Hvv2PYpm"
      },
      "id": "b_z7Hvv2PYpm"
    },
    {
      "cell_type": "markdown",
      "source": [
        "Subset footprint polygons to select the one with filename equal to the one we are processing(krakstad_202304_sun)"
      ],
      "metadata": {
        "id": "8tsQ5X3WaPL8"
      },
      "id": "8tsQ5X3WaPL8"
    },
    {
      "cell_type": "code",
      "source": [
        "footprint_ortho= footprints[footprints['filename']==ortho_name]\n",
        "footprint_ortho_UU= footprint_ortho.geometry.unary_union"
      ],
      "metadata": {
        "id": "0IF49lVnZ_QO"
      },
      "id": "0IF49lVnZ_QO",
      "execution_count": null,
      "outputs": []
    },
    {
      "cell_type": "markdown",
      "source": [
        "Keep only tiles that are fully within the ortho footprint. This is done to reduce storage space.\n",
        "\n"
      ],
      "metadata": {
        "id": "rF4z5uxQaWiW"
      },
      "id": "rF4z5uxQaWiW"
    },
    {
      "cell_type": "code",
      "source": [
        "# Load tiles shapefile\n",
        "tiles = gpd.read_file(output_tiles_dir+ \"/\"+ortho_name+\"_tile_index.shp\")\n",
        "tiles= tiles.to_crs(EPSG_code)\n",
        "\n",
        "# Select all tiles that are within the boundary polygon\n",
        "tiles_in = tiles[tiles.geometry.within(footprint_ortho_UU)]\n",
        "\n",
        "# Select all tiles that are not within the boundary polygon\n",
        "tiles_out= tiles.loc[~tiles['ID'].isin(tiles_in['ID']) ]\n",
        "print(str(len(tiles_out))+\" tiles to be deleted\")\n",
        "print(str(len(tiles_in))+\" tiles remaining\")"
      ],
      "metadata": {
        "id": "bWQKHGUUadpA",
        "colab": {
          "base_uri": "https://localhost:8080/"
        },
        "outputId": "ccc76cc4-0901-481d-fbd3-bc00c1b3fcf4"
      },
      "id": "bWQKHGUUadpA",
      "execution_count": null,
      "outputs": [
        {
          "output_type": "stream",
          "name": "stdout",
          "text": [
            "714 tiles to be deleted\n",
            "470 tiles remaining\n"
          ]
        }
      ]
    },
    {
      "cell_type": "code",
      "source": [
        "# delete tiles that are not within the footprint\n",
        "gtiffs_delete=[output_tiles_dir+ \"/\"+sub  for sub in tiles_out['ID']] \n",
        "for f in gtiffs_delete:\n",
        "   if os.path.exists(f):\n",
        "     os.remove(f)"
      ],
      "metadata": {
        "id": "oXXWlP7bcNnc"
      },
      "id": "oXXWlP7bcNnc",
      "execution_count": null,
      "outputs": []
    },
    {
      "cell_type": "markdown",
      "source": [
        "Plot footprint with all of the tiles and the ones that are fully within (green)"
      ],
      "metadata": {
        "id": "ys_3tPoqeWJs"
      },
      "id": "ys_3tPoqeWJs"
    },
    {
      "cell_type": "code",
      "source": [
        "fig, ax = plt.subplots(figsize=(5, 5))\n",
        "footprint_ortho.plot(ax=ax, edgecolor=\"black\",facecolor=\"none\")\n",
        "tiles.plot(ax=ax, edgecolor=\"red\",facecolor=\"none\")\n",
        "tiles_in.plot(ax=ax, color=\"green\",facecolor=\"none\")"
      ],
      "metadata": {
        "id": "_GuDinJ7atKj",
        "colab": {
          "base_uri": "https://localhost:8080/"
        },
        "outputId": "12625fa9-5d59-4ad0-cd1b-2ea0e1267004"
      },
      "id": "_GuDinJ7atKj",
      "execution_count": null,
      "outputs": [
        {
          "output_type": "execute_result",
          "data": {
            "text/plain": [
              "<Axes: >"
            ]
          },
          "metadata": {},
          "execution_count": 17
        },
        {
          "output_type": "display_data",
          "data": {
            "text/plain": [
              "<Figure size 500x500 with 1 Axes>"
            ],
            "image/png": "[encoded data removed]"
          },
          "metadata": {}
        }
      ]
    },
    {
      "cell_type": "markdown",
      "source": [
        "## 🎉 Finsihed tiling orthomosaic!"
      ],
      "metadata": {
        "id": "H7JUaftkdSNW"
      },
      "id": "H7JUaftkdSNW"
    },
    {
      "cell_type": "code",
      "source": [
        "print(\"Check in \"+ output_tiles_dir+\" for exported tiles\")"
      ],
      "metadata": {
        "id": "DHl7TOwLdh_c",
        "colab": {
          "base_uri": "https://localhost:8080/"
        },
        "outputId": "eac5d390-fbc4-4638-a71a-52c19b26b021"
      },
      "id": "DHl7TOwLdh_c",
      "execution_count": null,
      "outputs": [
        {
          "output_type": "stream",
          "name": "stdout",
          "text": [
            "Check in /content/drive/MyDrive/NOVA_course_deep_learning/data/tiles/10m_braatan_40m_20230605_sun for exported tiles\n"
          ]
        }
      ]
    },
    {
      "cell_type": "markdown",
      "source": [
        "## Now start annotating data by following the [instructions in this document](https://docs.google.com/document/d/1kTsUY5bC1Jl-gvYWFoYRSFxgzf_0CLXfwEEYKkwpLGA/edit#)"
      ],
      "metadata": {
        "id": "NRNpvy_FiYFo"
      },
      "id": "NRNpvy_FiYFo"
    }
  ],
  "metadata": {
    "kernelspec": {
      "display_name": "Python 3 (ipykernel)",
      "language": "python",
      "name": "python3"
    },
    "language_info": {
      "codemirror_mode": {
        "name": "ipython",
        "version": 3
      },
      "file_extension": ".py",
      "mimetype": "text/x-python",
      "name": "python",
      "nbconvert_exporter": "python",
      "pygments_lexer": "ipython3",
      "version": "3.10.8"
    },
    "colab": {
      "provenance": [],
      "include_colab_link": true
    }
  },
  "nbformat": 4,
  "nbformat_minor": 5
}